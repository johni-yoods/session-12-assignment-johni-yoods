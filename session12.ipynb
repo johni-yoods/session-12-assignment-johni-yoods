{
  "nbformat": 4,
  "nbformat_minor": 0,
  "metadata": {
    "colab": {
      "name": "session12.ipynb",
      "provenance": [],
      "collapsed_sections": []
    },
    "kernelspec": {
      "name": "python3",
      "display_name": "Python 3"
    },
    "language_info": {
      "name": "python"
    }
  },
  "cells": [
    {
      "cell_type": "markdown",
      "metadata": {
        "id": "KzgGDKWDkfq1"
      },
      "source": [
        "**Lazy Polygon**"
      ]
    },
    {
      "cell_type": "code",
      "metadata": {
        "id": "pzKVDaPySm8g"
      },
      "source": [
        "class Polygons:\n",
        "    def __init__(self, m, R):\n",
        "        if m < 3:\n",
        "            raise ValueError('m must be greater than 3')\n",
        "        self._m = m\n",
        "        self._R = R\n",
        "        \n",
        "    def __len__(self):\n",
        "        return self._m - 2\n",
        "    \n",
        "    def __repr__(self):\n",
        "        return f'Polygons(m={self._m}, R={self._R})'\n",
        "\n",
        "        \n",
        "    def __iter__(self):\n",
        "        return self.Polygon(self._m,self._R,self)\n",
        "\n",
        "\n",
        "    class Polygon:\n",
        "      def __init__(self, n, R,obj):\n",
        "        if n < 3:\n",
        "            raise ValueError('Polygon must have at least 3 vertices.')\n",
        "        self._n = n\n",
        "        self._R = R\n",
        "        self._obj = obj\n",
        "        self._index = 3\n",
        "        \n",
        "      def __repr__(self):\n",
        "        return f'Polygon(n={self._n}, R={self._R})'\n",
        "      def __iter__(self):\n",
        "            return self\n",
        "      def __next__(self):\n",
        "            if self._index >= len(self._obj):\n",
        "                raise StopIteration\n",
        "            else:\n",
        "                item = self._obj.Polygon(self._index,self._R,self._obj)\n",
        "                self._index += 1\n",
        "                return item\n"
      ],
      "execution_count": 1,
      "outputs": []
    },
    {
      "cell_type": "code",
      "metadata": {
        "colab": {
          "base_uri": "https://localhost:8080/"
        },
        "id": "TnTTThBDSxgo",
        "outputId": "9bcaf685-abbb-4efa-e9d6-a68f3f58694e"
      },
      "source": [
        "pol = Polygons(10,4)\n",
        "list(pol)\n",
        "\n"
      ],
      "execution_count": 2,
      "outputs": [
        {
          "output_type": "execute_result",
          "data": {
            "text/plain": [
              "[Polygon(n=3, R=4),\n",
              " Polygon(n=4, R=4),\n",
              " Polygon(n=5, R=4),\n",
              " Polygon(n=6, R=4),\n",
              " Polygon(n=7, R=4)]"
            ]
          },
          "metadata": {
            "tags": []
          },
          "execution_count": 2
        }
      ]
    },
    {
      "cell_type": "code",
      "metadata": {
        "colab": {
          "base_uri": "https://localhost:8080/"
        },
        "id": "Uvhj72PdWIOy",
        "outputId": "bc6046cb-9076-443a-908a-4bf72e5b6107"
      },
      "source": [
        "pol = Polygons(10,4)\n",
        "fact_iter = iter(pol)\n",
        "for _ in range(5):\n",
        "    print(next(fact_iter))"
      ],
      "execution_count": 3,
      "outputs": [
        {
          "output_type": "stream",
          "text": [
            "Polygon(n=3, R=4)\n",
            "Polygon(n=4, R=4)\n",
            "Polygon(n=5, R=4)\n",
            "Polygon(n=6, R=4)\n",
            "Polygon(n=7, R=4)\n"
          ],
          "name": "stdout"
        }
      ]
    },
    {
      "cell_type": "code",
      "metadata": {
        "id": "Y0uz1t86WKfY",
        "colab": {
          "base_uri": "https://localhost:8080/"
        },
        "outputId": "cb2c13ac-bc6f-4ece-f54d-8f3da8a52f51"
      },
      "source": [
        "for p in pol:\n",
        "  print(p)"
      ],
      "execution_count": 4,
      "outputs": [
        {
          "output_type": "stream",
          "text": [
            "Polygon(n=3, R=4)\n",
            "Polygon(n=4, R=4)\n",
            "Polygon(n=5, R=4)\n",
            "Polygon(n=6, R=4)\n",
            "Polygon(n=7, R=4)\n"
          ],
          "name": "stdout"
        }
      ]
    },
    {
      "cell_type": "code",
      "metadata": {
        "id": "8i7DR-bekdmW"
      },
      "source": [
        " class Polygon:\n",
        "      def __init__(self, n, R):\n",
        "        if n < 3:\n",
        "            raise ValueError('Polygon must have at least 3 vertices.')\n",
        "        self._n = n\n",
        "        self._R = R\n",
        "\n",
        "      def __repr__(self):\n",
        "        return f'Polygon(n={self._n}, R={self._R})'\n",
        "      @property\n",
        "      def count_vertices(self):\n",
        "        return self._n\n",
        "    \n",
        "      @property\n",
        "      def count_edges(self):\n",
        "        return self._n\n",
        "    \n",
        "      @property\n",
        "      def circumradius(self):\n",
        "        return self._R\n",
        "    \n",
        "      @property\n",
        "      def interior_angle(self):\n",
        "        return (self._n - 2) * 180 / self._n\n",
        "\n",
        "      @property\n",
        "      def side_length(self):\n",
        "        return 2 * self._R * math.sin(math.pi / self._n)\n",
        "    \n",
        "      @property\n",
        "      def apothem(self):\n",
        "        return self._R * math.cos(math.pi / self._n)\n",
        "    \n",
        "      @property\n",
        "      def area(self):\n",
        "        return self._n / 2 * self.side_length * self.apothem\n",
        "    \n",
        "      @property\n",
        "      def perimeter(self):\n",
        "        return self._n * self.side_length\n",
        "    \n",
        "      def __eq__(self, other):\n",
        "        if isinstance(other, self.__class__):\n",
        "            return (self.count_edges == other.count_edges \n",
        "                    and self.circumradius == other.circumradius)\n",
        "        else:\n",
        "            return NotImplemented\n",
        "        \n",
        "      def __gt__(self, other):\n",
        "        if isinstance(other, self.__class__):\n",
        "            return self.count_vertices > other.count_vertices\n",
        "        else:\n",
        "            return NotImplemented"
      ],
      "execution_count": 5,
      "outputs": []
    }
  ]
}